{
  "nbformat": 4,
  "nbformat_minor": 0,
  "metadata": {
    "colab": {
      "provenance": [],
      "authorship_tag": "ABX9TyMH7TcL9ARsLNGrnErZvUeK",
      "include_colab_link": true
    },
    "kernelspec": {
      "name": "python3",
      "display_name": "Python 3"
    },
    "language_info": {
      "name": "python"
    }
  },
  "cells": [
    {
      "cell_type": "markdown",
      "metadata": {
        "id": "view-in-github",
        "colab_type": "text"
      },
      "source": [
        "<a href=\"https://colab.research.google.com/github/SiddheshKukade/-client-video-chat-app-for-schools/blob/main/00_tensorflow_basics.ipynb\" target=\"_parent\"><img src=\"https://colab.research.google.com/assets/colab-badge.svg\" alt=\"Open In Colab\"/></a>"
      ]
    },
    {
      "cell_type": "code",
      "execution_count": 2,
      "metadata": {
        "colab": {
          "base_uri": "https://localhost:8080/",
          "height": 35
        },
        "id": "XthfcFqXH7Tq",
        "outputId": "58f74545-3c94-4a67-e1ef-a11ffbd231ed"
      },
      "outputs": [
        {
          "output_type": "execute_result",
          "data": {
            "text/plain": [
              "'2.14.0'"
            ],
            "application/vnd.google.colaboratory.intrinsic+json": {
              "type": "string"
            }
          },
          "metadata": {},
          "execution_count": 2
        }
      ],
      "source": [
        "import tensorflow as tf\n",
        "tf.__version__"
      ]
    },
    {
      "cell_type": "markdown",
      "source": [
        "### Crating a tensor"
      ],
      "metadata": {
        "id": "kWTXcm7EIYDO"
      }
    },
    {
      "cell_type": "code",
      "source": [
        "matrix = tf.constant([[10,3],[3,10]]);\n",
        "matrix.ndim #shows the dimensions"
      ],
      "metadata": {
        "colab": {
          "base_uri": "https://localhost:8080/"
        },
        "id": "uXjQ9kAFIOgj",
        "outputId": "52e4087b-10f0-4fce-f51d-1f44a668a408"
      },
      "execution_count": 7,
      "outputs": [
        {
          "output_type": "execute_result",
          "data": {
            "text/plain": [
              "2"
            ]
          },
          "metadata": {},
          "execution_count": 7
        }
      ]
    },
    {
      "cell_type": "code",
      "source": [
        "matrix.dtype"
      ],
      "metadata": {
        "colab": {
          "base_uri": "https://localhost:8080/"
        },
        "id": "uGWOXByOIXpb",
        "outputId": "b33ba95d-111b-4daa-e044-aeec4e68d6fe"
      },
      "execution_count": 8,
      "outputs": [
        {
          "output_type": "execute_result",
          "data": {
            "text/plain": [
              "tf.int32"
            ]
          },
          "metadata": {},
          "execution_count": 8
        }
      ]
    },
    {
      "cell_type": "code",
      "source": [
        "another_matrix = tf.constant([[10,7], [23.,5.]], dtype=\"float16\");\n",
        "another_matrix"
      ],
      "metadata": {
        "colab": {
          "base_uri": "https://localhost:8080/"
        },
        "id": "msCO21QSJVFF",
        "outputId": "e262b5bb-7b20-4ea3-9af8-2d763fd0432b"
      },
      "execution_count": 15,
      "outputs": [
        {
          "output_type": "execute_result",
          "data": {
            "text/plain": [
              "<tf.Tensor: shape=(2, 2), dtype=float16, numpy=\n",
              "array([[10.,  7.],\n",
              "       [23.,  5.]], dtype=float16)>"
            ]
          },
          "metadata": {},
          "execution_count": 15
        }
      ]
    },
    {
      "cell_type": "markdown",
      "source": [
        "### 3D tensor\n"
      ],
      "metadata": {
        "id": "7zBkCuehKENo"
      }
    },
    {
      "cell_type": "code",
      "source": [
        "threed_matrix = tf.constant([[[1,2,3], [4,5,6],[7,8,9]],[[10,11,12], [13,14,15], [16,17,18]]]);"
      ],
      "metadata": {
        "id": "03JFa-mjJVIT"
      },
      "execution_count": 19,
      "outputs": []
    },
    {
      "cell_type": "code",
      "source": [
        "threed_matrix.ndim"
      ],
      "metadata": {
        "colab": {
          "base_uri": "https://localhost:8080/"
        },
        "id": "R5PntDYUJVLK",
        "outputId": "0b6c6d55-8b0d-49ba-a654-926aa5ff9e67"
      },
      "execution_count": 20,
      "outputs": [
        {
          "output_type": "execute_result",
          "data": {
            "text/plain": [
              "3"
            ]
          },
          "metadata": {},
          "execution_count": 20
        }
      ]
    },
    {
      "cell_type": "markdown",
      "source": [
        "### Scalar"
      ],
      "metadata": {
        "id": "rQMNYnlPKuGX"
      }
    },
    {
      "cell_type": "code",
      "source": [
        "scalar = tf.constant(4);"
      ],
      "metadata": {
        "id": "SUJptyuqKxAC"
      },
      "execution_count": 21,
      "outputs": []
    },
    {
      "cell_type": "markdown",
      "source": [
        "## Notes\n",
        "1. Scalar : single number\n",
        "2. Vector : A number with direction\n",
        "3. Matrix : 2d array of numbers\n",
        "4. Tensor : n-dimensional array"
      ],
      "metadata": {
        "id": "GOrgI0TbK7AH"
      }
    },
    {
      "cell_type": "code",
      "source": [
        "\n"
      ],
      "metadata": {
        "id": "-ykX83ApKhOH"
      },
      "execution_count": 22,
      "outputs": []
    }
  ]
}